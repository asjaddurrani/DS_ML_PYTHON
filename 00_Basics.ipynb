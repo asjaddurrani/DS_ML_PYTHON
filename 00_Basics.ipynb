{
 "cells": [
  {
   "cell_type": "markdown",
   "metadata": {},
   "source": [
    " ### *01-First Task*"
   ]
  },
  {
   "cell_type": "code",
   "execution_count": 1,
   "metadata": {},
   "outputs": [
    {
     "name": "stdout",
     "output_type": "stream",
     "text": [
      "5\n",
      "Hellow World\n"
     ]
    }
   ],
   "source": [
    "print(2+3)\n",
    "print(\"Hellow World\")\n"
   ]
  },
  {
   "cell_type": "markdown",
   "metadata": {},
   "source": [
    "### *02-Operators (+,-,/,*)"
   ]
  },
  {
   "cell_type": "code",
   "execution_count": 2,
   "metadata": {
    "scrolled": true
   },
   "outputs": [
    {
     "name": "stdout",
     "output_type": "stream",
     "text": [
      "5\n",
      "1\n",
      "4\n",
      "1.0\n",
      "1\n",
      "8\n"
     ]
    }
   ],
   "source": [
    "print(2+3)\n",
    "print(3-2)\n",
    "print(2*2)\n",
    "print(2/2)\n",
    "print(2//2)\n",
    "print(2**3)\n",
    "\n",
    "#PEMDAS  () EXPO MULTI DIVI ADDI SUB\n",
    "# LEFT TO RIGHT"
   ]
  },
  {
   "cell_type": "markdown",
   "metadata": {},
   "source": [
    "### 03-Strings"
   ]
  },
  {
   "cell_type": "code",
   "execution_count": 3,
   "metadata": {},
   "outputs": [
    {
     "name": "stdout",
     "output_type": "stream",
     "text": [
      " sentence with one quote \n",
      " Sentence with double quotes \n",
      " sentence with three quotes \n"
     ]
    }
   ],
   "source": [
    "print(' sentence with one quote ')\n",
    "print(\" Sentence with double quotes \")\n",
    "print(''' sentence with three quotes ''')"
   ]
  },
  {
   "cell_type": "markdown",
   "metadata": {},
   "source": [
    "### 04-Comments"
   ]
  },
  {
   "cell_type": "code",
   "execution_count": 4,
   "metadata": {},
   "outputs": [
    {
     "name": "stdout",
     "output_type": "stream",
     "text": [
      "How to use comments and for what purpose?\n"
     ]
    }
   ],
   "source": [
    "print(\"How to use comments and for what purpose?\")     # press (ctrl+/ to do comments)\n",
    "\n",
    "# print(2+3)"
   ]
  },
  {
   "cell_type": "markdown",
   "metadata": {},
   "source": [
    "### 05-Variables"
   ]
  },
  {
   "cell_type": "code",
   "execution_count": null,
   "metadata": {},
   "outputs": [
    {
     "name": "stdout",
     "output_type": "stream",
     "text": [
      "50\n",
      "50\n",
      "Python is good language\n",
      "100\n",
      "<class 'int'>\n",
      "<class 'str'>\n",
      "what is the type of fruit basket\n",
      "<class 'str'>\n",
      "Apples\n"
     ]
    }
   ],
   "source": [
    "#we will discuss variables\n",
    "\n",
    "#how to assign no to variable\n",
    "x=50 \n",
    "print(x)\n",
    "\n",
    "y=50\n",
    "print(y)\n",
    "\n",
    "#how to assign string to variable\n",
    "z=\"Python is good language\"\n",
    "print(z)\n",
    "\n",
    "#how to add 2 numbers using variables.\n",
    "x=x+y\n",
    "print(x)\n",
    "\n",
    "#how to check type of variable\n",
    "\n",
    "print(type(x))\n",
    "print(type(z))\n",
    "\n",
    "#variable name no start with number etc\n",
    "print(\"what is the type of fruit basket\")\n",
    "fruit_basket=8\n",
    "fruit_basket=\"Apples\"\n",
    "print(type(fruit_basket))\n",
    "print(fruit_basket)\n",
    "\n",
    "#multiple variable assign\n",
    "# x=y=z=\"orange\"\n",
    "# print(x,y)\n",
    "\n",
    "# x,y,z=(\"org\",\"man\",\"nan\")\n",
    "# print(x,y,z)\n",
    "\n",
    "\n",
    "\n",
    "\n",
    "\n"
   ]
  },
  {
   "cell_type": "markdown",
   "metadata": {},
   "source": [
    "### 06-Input Function"
   ]
  },
  {
   "cell_type": "code",
   "execution_count": null,
   "metadata": {},
   "outputs": [],
   "source": [
    "\n",
    "# Input Function simple\n",
    "fruit_basket=input(\"What is your favorite fruit? \")\n",
    "print(fruit_basket)\n",
    "\n",
    "\n",
    "#Input function 2nd step\n",
    "name=input(\"What is your good name? \")\n",
    "greetings=\"Hellow!\"\n",
    "print(greetings,name)\n",
    "\n",
    "#Input function 3rd step\n",
    "full_name=input(\"What is your name? \")\n",
    "print(\"Hellow\", full_name)\n",
    "\n",
    "#input variable 4th step\n",
    "full_name1=input(\"What is your name? \")\n",
    "age=input(\"what is your age? \")\n",
    "greeting=\"Hellow!\"\n",
    "print(greeting,full_name1, \", You are still young\")\n",
    "\n"
   ]
  },
  {
   "cell_type": "markdown",
   "metadata": {},
   "source": [
    "### 07-Conditional logics"
   ]
  },
  {
   "cell_type": "code",
   "execution_count": null,
   "metadata": {
    "collapsed": true
   },
   "outputs": [],
   "source": [
    "#Coditional operators are either yes or no,0 and 1,true or false\n",
    "\n",
    "# equal to operator  ==\n",
    "# not equal !=\n",
    "# greater than >\n",
    "# less than <\n",
    "# greater or equal to >=\n",
    "# less or equal to <=\n",
    "\n",
    "asjad_age=5\n",
    "ahmed_age=10\n",
    "print(asjad_age!=ahmed_age)\n",
    "\n",
    "\n",
    "school_age=10\n",
    "student_age=(input(\"What is the age of student \"))    #input function\n",
    "student_age=int(student_age)                          #change string type to integer\n",
    "print(\"The age of student is:\" ,student_age)\n",
    "print(student_age==school_age)                       #logical operator\n",
    "\n",
    "\n",
    "\n",
    "\n",
    "\n",
    "\n"
   ]
  },
  {
   "cell_type": "markdown",
   "metadata": {},
   "source": [
    "### 08-Type conversion"
   ]
  },
  {
   "cell_type": "code",
   "execution_count": null,
   "metadata": {
    "collapsed": true
   },
   "outputs": [],
   "source": [
    "\n",
    "#implicit type conversion\n",
    "x=10\n",
    "y=10.5\n",
    "z=\"hellow\"\n",
    "\n",
    "x=x*y      #use of multiplication operator\n",
    "print(x,type(x))\n",
    "\n",
    "#explicit type conversion\n",
    "\n",
    "age=input(\"What is your age \")\n",
    "print(age,type(int(age)))\n",
    "\n",
    "\n",
    "\n",
    "\n",
    "\n"
   ]
  },
  {
   "cell_type": "markdown",
   "metadata": {},
   "source": [
    "### 09-if else"
   ]
  },
  {
   "cell_type": "code",
   "execution_count": null,
   "metadata": {
    "collapsed": true
   },
   "outputs": [],
   "source": [
    "school_age=5\n",
    "school_max_age=7\n",
    "print(\"The Minimum age is: 5\")\n",
    "student_age=input(\"Please Enter the age of student \")    #input function\n",
    "student_age=int(student_age)                      #change data type\n",
    "if student_age==school_age:                       #if statement\n",
    "    print(\"Admission confirmed\")\n",
    "elif student_age < school_age:                    #elif statement is used\n",
    "    print(\"Age is too less\")\n",
    "elif student_age >= school_max_age:\n",
    "    print(\"Age too much\")\n",
    "else:                                             #else statement\n",
    "    print(\"admission not confirmed\")\n",
    "\n",
    "\n",
    "\n",
    "\n",
    "    "
   ]
  },
  {
   "cell_type": "markdown",
   "metadata": {},
   "source": [
    "### 10-functions"
   ]
  },
  {
   "cell_type": "code",
   "execution_count": null,
   "metadata": {
    "collapsed": true
   },
   "outputs": [],
   "source": [
    "#first function\n",
    "\n",
    "\n",
    "# def functionss_name():\n",
    "#     print(\"Hellow my name is asjad\")\n",
    "#     print(\"Hellow my name is asjad\")\n",
    "#     print(\"Hellow my name is asjad\")\n",
    "\n",
    "# functionss_name()\n",
    "\n",
    "#second function\n",
    "# def functionss_name():\n",
    "#     text=\"Hellow my name is asjad\"\n",
    "#     print(text)\n",
    "# functionss_name()\n",
    "\n",
    "#3rd function\n",
    "\n",
    "# def functionss_name(age):\n",
    "#     if age==5:\n",
    "#         print(\"age is 5\")\n",
    "#     elif age==6:\n",
    "#         print(\"age is 6\")\n",
    "#     else:\n",
    "#         print(\"nothing\")\n",
    "# functionss_name(7)\n",
    "\n",
    "#4th method\n",
    "\n",
    "# def functionss_name(text):\n",
    "#     print(text)\n",
    "#     print(text)\n",
    "#     print(text)\n",
    "# functionss_name(\"Hellow everyone\")\n",
    "\n",
    "#5th methid\n",
    "\n",
    "def functionss_name(age):\n",
    "    age=age+10\n",
    "    return age\n",
    "    \n",
    "new_name=functionss_name(10)\n",
    "print(new_name)\n",
    "\n"
   ]
  },
  {
   "cell_type": "markdown",
   "metadata": {},
   "source": [
    "### 11-loops"
   ]
  },
  {
   "cell_type": "code",
   "execution_count": null,
   "metadata": {
    "collapsed": true
   },
   "outputs": [],
   "source": [
    "#while loop\n",
    "\n",
    "# x=0\n",
    "# while(x<=5):\n",
    "#     print(x)\n",
    "#     x=x+1\n",
    "\n",
    "#forloop\n",
    "\n",
    "# for x in range(5,10):\n",
    "#     print(x)\n",
    "\n",
    "\n",
    "# days=[\"MON\",\"TUE\",\"WED\",\"THU\",\"FRI\",\"SAT\",\"SUN\"]\n",
    "\n",
    "# for d in days:\n",
    "#     if d==\"FRI\":break\n",
    "#     # if d==\"FRI\":continue\n",
    "#     print(d)\n",
    "   \n",
    "\n",
    "\n",
    "# fruits=[\"apple\",\"bana\"]\n",
    "# furniture=[\"chair\",\"table\"]\n",
    "\n",
    "# for f in fruits:\n",
    "#     for y in furniture:\n",
    "#         print(f,y)\n",
    "\n",
    "\n",
    "# fruits=[\"apple\",\"bana\",\"orange\"]\n",
    "# for x in fruits:\n",
    "#     if x==\"bana\":break\n",
    "#     print(x)\n",
    "\n",
    "\n",
    "\n",
    "\n",
    "x=y=z=\"orange\"\n",
    "print(x,y)\n",
    "\n"
   ]
  },
  {
   "cell_type": "markdown",
   "metadata": {},
   "source": [
    "### 12-Libraries"
   ]
  },
  {
   "cell_type": "code",
   "execution_count": null,
   "metadata": {
    "collapsed": true
   },
   "outputs": [],
   "source": [
    "#import libraries\n",
    "\n",
    "import math\n",
    "print(\"The value of pi is \", math.pi )\n",
    "\n",
    "import statistics\n",
    "arr=[10,15,20,25]\n",
    "print(\"The fmean is \",statistics.fmean(arr))"
   ]
  },
  {
   "cell_type": "markdown",
   "metadata": {},
   "source": [
    "### 13-trouble shooting"
   ]
  },
  {
   "cell_type": "code",
   "execution_count": null,
   "metadata": {
    "collapsed": true
   },
   "outputs": [],
   "source": [
    "#trouble shooting\n",
    "\n",
    "#syntax errot\n",
    "\n",
    "# print(asjad)    # without \"\" it is called syntax error\n",
    "\n",
    "# print(25/0)     #is called run time error\n",
    "\n",
    "name=\"asjad\"\n",
    "print(\"hellow\")    #semantic error\n"
   ]
  }
 ],
 "metadata": {
  "kernelspec": {
   "display_name": "Python 3 (ipykernel)",
   "language": "python",
   "name": "python3"
  },
  "language_info": {
   "codemirror_mode": {
    "name": "ipython",
    "version": 3
   },
   "file_extension": ".py",
   "mimetype": "text/x-python",
   "name": "python",
   "nbconvert_exporter": "python",
   "pygments_lexer": "ipython3",
   "version": "3.9.7"
  }
 },
 "nbformat": 4,
 "nbformat_minor": 2
}
