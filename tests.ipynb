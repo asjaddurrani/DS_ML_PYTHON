{
 "cells": [
  {
   "cell_type": "markdown",
   "metadata": {},
   "source": [
    "# Shapiro Wilk Test \n",
    "- Test wether a data sample has a Gaussian Distribution."
   ]
  },
  {
   "cell_type": "markdown",
   "metadata": {},
   "source": [
    "## Assumptions\n",
    "- Observation in each sample are independent and identically distributed.\n",
    "- Interpretation\n",
    "\n",
    "- H0: The sample has a Gaussian Normal Distribution.\n",
    "- H1  The sample does not have a Gaussian Normal Distribution."
   ]
  },
  {
   "cell_type": "code",
   "execution_count": 54,
   "metadata": {},
   "outputs": [],
   "source": [
    "#First install \n",
    "# pip install scipy"
   ]
  },
  {
   "cell_type": "code",
   "execution_count": 55,
   "metadata": {},
   "outputs": [
    {
     "name": "stdout",
     "output_type": "stream",
     "text": [
      "stat= 0.8293440341949463\n",
      "p= 0.18666379153728485\n",
      "The data is normal\n"
     ]
    }
   ],
   "source": [
    "# Sample data using shapiro wilk test\n",
    "from scipy.stats import shapiro\n",
    "data = [0.83,1.23,4.563]\n",
    "stat, p = shapiro(data)\n",
    "print(\"stat=\",stat)\n",
    "print(\"p=\",p)\n",
    "if p > 0.05:\n",
    "    print(\"The data is normal\")\n",
    "else:\n",
    "    print(\"The data is not normal\")"
   ]
  },
  {
   "cell_type": "code",
   "execution_count": 56,
   "metadata": {},
   "outputs": [
    {
     "name": "stderr",
     "output_type": "stream",
     "text": [
      "C:\\Users\\AsJad\\AppData\\Local\\Programs\\Python\\Python310\\lib\\site-packages\\seaborn\\_decorators.py:36: FutureWarning: Pass the following variable as a keyword arg: x. From version 0.12, the only valid positional argument will be `data`, and passing other arguments without an explicit keyword will result in an error or misinterpretation.\n",
      "  warnings.warn(\n"
     ]
    },
    {
     "data": {
      "text/plain": [
       "<AxesSubplot:xlabel='age'>"
      ]
     },
     "execution_count": 56,
     "metadata": {},
     "output_type": "execute_result"
    },
    {
     "data": {
      "image/png": "[encoded data removed]",
      "text/plain": [
       "<Figure size 432x288 with 1 Axes>"
      ]
     },
     "metadata": {
      "needs_background": "light"
     },
     "output_type": "display_data"
    }
   ],
   "source": [
    "# import titanic data set\n",
    "import pandas as pd\n",
    "import numpy as np\n",
    "import seaborn as sns\n",
    "import matplotlib.pyplot as plt\n",
    "\n",
    "ship= sns.load_dataset('titanic')\n",
    "\n",
    "# graphical reperesentation of data\n",
    "\n",
    "# ship['age'].hist()\n",
    "sns.boxplot(ship['age'])"
   ]
  },
  {
   "cell_type": "code",
   "execution_count": 57,
   "metadata": {},
   "outputs": [
    {
     "name": "stdout",
     "output_type": "stream",
     "text": [
      "stat= nan\n",
      "p= 1.0\n",
      "The data is normal\n"
     ]
    }
   ],
   "source": [
    "# perform shapiro test on titanic data\n",
    "from scipy.stats import shapiro\n",
    "stat, p = shapiro(ship['age'])\n",
    "print(\"stat=\",stat)\n",
    "print(\"p=\",p)\n",
    "if p > 0.05:\n",
    "    print(\"The data is normal\")\n",
    "else:\n",
    "    print(\"The data is not normal\")"
   ]
  },
  {
   "cell_type": "code",
   "execution_count": 58,
   "metadata": {},
   "outputs": [
    {
     "name": "stdout",
     "output_type": "stream",
     "text": [
      "stat= 0.5218914747238159\n",
      "p= 1.0789998175301091e-43\n",
      "The data is not normal\n"
     ]
    }
   ],
   "source": [
    "# perform shapiro test on titanic data\n",
    "from scipy.stats import shapiro\n",
    "stat, p = shapiro(ship['fare'])\n",
    "print(\"stat=\",stat)\n",
    "print(\"p=\",p)\n",
    "if p > 0.05:\n",
    "    print(\"The data is normal\")\n",
    "else:\n",
    "    print(\"The data is not normal\")"
   ]
  },
  {
   "cell_type": "markdown",
   "metadata": {},
   "source": [
    "- After drop null values from age column then we check the shapiro wilk test"
   ]
  },
  {
   "cell_type": "code",
   "execution_count": 59,
   "metadata": {},
   "outputs": [
    {
     "name": "stdout",
     "output_type": "stream",
     "text": [
      "stat= 0.9906661510467529\n",
      "p= 0.28414419293403625\n",
      "The data is normal\n"
     ]
    }
   ],
   "source": [
    "# perform shapiro test on titanic data\n",
    "from scipy.stats import shapiro\n",
    "ship = ship.dropna()\n",
    "stat, p = shapiro(ship['age'])\n",
    "print(\"stat=\",stat)\n",
    "print(\"p=\",p)\n",
    "if p > 0.05:\n",
    "    print(\"The data is normal\")\n",
    "else:\n",
    "    print(\"The data is not normal\")\n"
   ]
  },
  {
   "cell_type": "code",
   "execution_count": 60,
   "metadata": {},
   "outputs": [
    {
     "name": "stderr",
     "output_type": "stream",
     "text": [
      "C:\\Users\\AsJad\\AppData\\Local\\Programs\\Python\\Python310\\lib\\site-packages\\seaborn\\_decorators.py:36: FutureWarning: Pass the following variable as a keyword arg: x. From version 0.12, the only valid positional argument will be `data`, and passing other arguments without an explicit keyword will result in an error or misinterpretation.\n",
      "  warnings.warn(\n"
     ]
    },
    {
     "data": {
      "text/plain": [
       "<AxesSubplot:xlabel='age'>"
      ]
     },
     "execution_count": 60,
     "metadata": {},
     "output_type": "execute_result"
    },
    {
     "data": {
      "image/png": "[encoded data removed]",
      "text/plain": [
       "<Figure size 432x288 with 1 Axes>"
      ]
     },
     "metadata": {
      "needs_background": "light"
     },
     "output_type": "display_data"
    }
   ],
   "source": [
    "sns.boxplot(ship['age'])"
   ]
  },
  {
   "cell_type": "code",
   "execution_count": 61,
   "metadata": {},
   "outputs": [
    {
     "name": "stdout",
     "output_type": "stream",
     "text": [
      "stat= 0.7430529594421387\n",
      "p= 1.6486953687823121e-16\n",
      "The data is not normal\n"
     ]
    }
   ],
   "source": [
    "# perform shapiro test on titanic data\n",
    "from scipy.stats import shapiro\n",
    "ship = ship.dropna()\n",
    "stat, p = shapiro(ship['fare'])\n",
    "print(\"stat=\",stat)\n",
    "print(\"p=\",p)\n",
    "if p > 0.05:\n",
    "    print(\"The data is normal\")\n",
    "else:\n",
    "    print(\"The data is not normal\")"
   ]
  },
  {
   "cell_type": "code",
   "execution_count": 62,
   "metadata": {},
   "outputs": [
    {
     "name": "stderr",
     "output_type": "stream",
     "text": [
      "C:\\Users\\AsJad\\AppData\\Local\\Programs\\Python\\Python310\\lib\\site-packages\\seaborn\\_decorators.py:36: FutureWarning: Pass the following variable as a keyword arg: x. From version 0.12, the only valid positional argument will be `data`, and passing other arguments without an explicit keyword will result in an error or misinterpretation.\n",
      "  warnings.warn(\n"
     ]
    },
    {
     "data": {
      "text/plain": [
       "<AxesSubplot:xlabel='fare'>"
      ]
     },
     "execution_count": 62,
     "metadata": {},
     "output_type": "execute_result"
    },
    {
     "data": {
      "image/png": "[encoded data removed]",
      "text/plain": [
       "<Figure size 432x288 with 1 Axes>"
      ]
     },
     "metadata": {
      "needs_background": "light"
     },
     "output_type": "display_data"
    }
   ],
   "source": [
    "sns.boxplot(ship['fare'])"
   ]
  },
  {
   "cell_type": "markdown",
   "metadata": {},
   "source": [
    "# Correlation Test\n",
    "- Test wether a data sample has a Gaussian Distribution."
   ]
  },
  {
   "cell_type": "markdown",
   "metadata": {},
   "source": [
    "## Assumptions\n",
    "- Observation in each sample are independent and identically distributed.\n",
    "- Observation in each sample are normally distributed.\n",
    "- Observation in each sample have same variance.\n",
    "- Interpretation\n",
    "\n",
    "- H0: Two samples are independent.\n",
    "- H1  Their is a dependency between samples."
   ]
  },
  {
   "cell_type": "markdown",
   "metadata": {},
   "source": [
    "1. pearsonr correlation test"
   ]
  },
  {
   "cell_type": "code",
   "execution_count": 63,
   "metadata": {},
   "outputs": [
    {
     "name": "stdout",
     "output_type": "stream",
     "text": [
      "stat= -0.09073036394094937\n",
      "p= 0.223185916258614\n",
      "The data is not dependent(no correlation)\n"
     ]
    }
   ],
   "source": [
    "from scipy.stats import pearsonr\n",
    "data = [0.83,1.23,4.563]\n",
    "stat, p = pearsonr(ship['age'],ship['fare'])\n",
    "print(\"stat=\",stat)\n",
    "print(\"p=\",p)\n",
    "if p > 0.05:\n",
    "    print(\"The data is not dependent(no correlation)\")\n",
    "else:\n",
    "    print(\"The data is dependent(correlation)\")"
   ]
  },
  {
   "cell_type": "markdown",
   "metadata": {},
   "source": [
    "2. Spearsmans Rank Correlation\n",
    "- Test wether two samples have a monotonic relation"
   ]
  },
  {
   "cell_type": "code",
   "execution_count": 64,
   "metadata": {},
   "outputs": [
    {
     "name": "stdout",
     "output_type": "stream",
     "text": [
      "stat= -0.07258447372826443\n",
      "p= 0.33017748068844077\n",
      "The data is not dependent(no correlation)\n"
     ]
    }
   ],
   "source": [
    "from scipy.stats import spearmanr\n",
    "data = [0.83,1.23,4.563]\n",
    "stat, p = spearmanr(ship['age'],ship['fare'])\n",
    "print(\"stat=\",stat)\n",
    "print(\"p=\",p)\n",
    "if p > 0.05:\n",
    "    print(\"The data is not dependent(no correlation)\")\n",
    "else:\n",
    "    print(\"The data is dependent(correlation)\")"
   ]
  },
  {
   "cell_type": "markdown",
   "metadata": {},
   "source": [
    "# Chi Square Test\n",
    "- Test wether two categorial variables are related or independent."
   ]
  },
  {
   "cell_type": "markdown",
   "metadata": {},
   "source": [
    "## Assumptions\n",
    "- Observatiions used in the calculation of the contigency table are independent.25 or more examples in each cell of the contigency table.\n",
    "- Interpretation.\n",
    "\n",
    "- H0: Two samples are independent.\n",
    "- H1: Their is a dependency between samples."
   ]
  },
  {
   "cell_type": "code",
   "execution_count": 67,
   "metadata": {},
   "outputs": [
    {
     "name": "stdout",
     "output_type": "stream",
     "text": [
      "stat= 0.0\n",
      "p= 1.0\n",
      "Probably independent\n"
     ]
    }
   ],
   "source": [
    "from scipy.stats import chi2_contingency\n",
    "data = [0.83,1.23,4.563]\n",
    "stat, p,dof,expected = chi2_contingency(ship['age'],ship['fare'])\n",
    "print(\"stat=\",stat)\n",
    "print(\"p=\",p)\n",
    "if p > 0.05:\n",
    "    print(\"Probably independent\")\n",
    "else:\n",
    "    print(\"Probably dependent\")"
   ]
  },
  {
   "cell_type": "markdown",
   "metadata": {},
   "source": [
    "# Parametric Statistical Hypothesis test"
   ]
  },
  {
   "cell_type": "markdown",
   "metadata": {},
   "source": [
    "1. Students t-test"
   ]
  },
  {
   "cell_type": "code",
   "execution_count": 70,
   "metadata": {},
   "outputs": [
    {
     "name": "stdout",
     "output_type": "stream",
     "text": [
      "stat= -7.480848976059225\n",
      "p= 5.64656168773021e-13\n",
      "Probably the different dataset\n"
     ]
    }
   ],
   "source": [
    "from scipy.stats import ttest_ind\n",
    "data = [0.83,1.23,4.563]\n",
    "stat, p = ttest_ind(ship['age'],ship['fare'])\n",
    "print(\"stat=\",stat)\n",
    "print(\"p=\",p)\n",
    "if p > 0.05:\n",
    "    print(\"Probably the same dataset\")\n",
    "else:\n",
    "    print(\"Probably the different dataset\")"
   ]
  },
  {
   "cell_type": "markdown",
   "metadata": {},
   "source": [
    "2. Paired student t-test"
   ]
  },
  {
   "cell_type": "code",
   "execution_count": 71,
   "metadata": {},
   "outputs": [
    {
     "name": "stdout",
     "output_type": "stream",
     "text": [
      "stat= -7.350857699919938\n",
      "p= 6.554033898002242e-12\n",
      "Probably the different dataset\n"
     ]
    }
   ],
   "source": [
    "from scipy.stats import ttest_rel\n",
    "data = [0.83,1.23,4.563]\n",
    "stat, p = ttest_rel(ship['age'],ship['fare'])\n",
    "print(\"stat=\",stat)\n",
    "print(\"p=\",p)\n",
    "if p > 0.05:\n",
    "    print(\"Probably the same distribution\")\n",
    "else:\n",
    "    print(\"Probably the different distribution\")"
   ]
  },
  {
   "cell_type": "markdown",
   "metadata": {},
   "source": [
    "# Analysis of variance test(ANOVA)"
   ]
  },
  {
   "cell_type": "code",
   "execution_count": 74,
   "metadata": {},
   "outputs": [
    {
     "name": "stdout",
     "output_type": "stream",
     "text": [
      "stat= 137.59008141055892\n",
      "p= 4.567357442512319e-49\n",
      "Probably the different distribution\n"
     ]
    }
   ],
   "source": [
    "from scipy.stats import f_oneway\n",
    "data = [0.83,1.23,4.563]\n",
    "stat, p = f_oneway(ship['age'],ship['fare'],ship['survived'])\n",
    "print(\"stat=\",stat)\n",
    "print(\"p=\",p)\n",
    "if p > 0.05:\n",
    "    print(\"Probably the same distribution\")\n",
    "else:\n",
    "    print(\"Probably the different distribution\")"
   ]
  }
 ],
 "metadata": {
  "interpreter": {
   "hash": "cdf9bd7efb0998aabe89bf1c62213da3f32dfc0f8ec3cbc126270ab25278a90e"
  },
  "kernelspec": {
   "display_name": "Python 3 (ipykernel)",
   "language": "python",
   "name": "python3"
  },
  "language_info": {
   "codemirror_mode": {
    "name": "ipython",
    "version": 3
   },
   "file_extension": ".py",
   "mimetype": "text/x-python",
   "name": "python",
   "nbconvert_exporter": "python",
   "pygments_lexer": "ipython3",
   "version": "3.9.7"
  }
 },
 "nbformat": 4,
 "nbformat_minor": 2
}
